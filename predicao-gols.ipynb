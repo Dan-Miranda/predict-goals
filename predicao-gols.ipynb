{
 "cells": [
  {
   "attachments": {},
   "cell_type": "markdown",
   "metadata": {},
   "source": [
    "Exploração dos dados"
   ]
  },
  {
   "cell_type": "code",
   "execution_count": 11,
   "metadata": {},
   "outputs": [
    {
     "name": "stdout",
     "output_type": "stream",
     "text": [
      "Número de instâncias: 380\n",
      "Número de atributos: 26\n",
      "match_id                    0\n",
      "stage                       0\n",
      "date                        0\n",
      "team_name_home              0\n",
      "team_name_away              0\n",
      "team_home_score             0\n",
      "team_away_score             0\n",
      "possession_home             0\n",
      "possession_away             0\n",
      "total_shots_home            0\n",
      "total_shots_away            0\n",
      "shots_on_target_home        0\n",
      "shots_on_target_away        0\n",
      "duels_won_home              0\n",
      "duels_won_away              0\n",
      "prediction_team_home_win    0\n",
      "prediction_draw             0\n",
      "prediction_team_away_win    0\n",
      "prediction_quantity         0\n",
      "location                    0\n",
      "lineup_home                 0\n",
      "lineup_away                 0\n",
      "player_names_home           0\n",
      "player_numbers_home         0\n",
      "player_names_away           0\n",
      "player_numbers_away         0\n",
      "dtype: int64\n"
     ]
    }
   ],
   "source": [
    "import pandas as pd\n",
    "import numpy as np\n",
    "\n",
    "# Carregando o conjunto de dados\n",
    "data = pd.read_csv('./matches_brasileirao_serie_a_2022.csv')\n",
    "\n",
    "# verficando a quantidade de instâncias\n",
    "instances = data.shape[0]\n",
    "print('Número de instâncias: ' + str(instances))\n",
    "\n",
    "# verificando a quantidade de atributos\n",
    "attributes = data.shape[1]\n",
    "print('Número de atributos: ' + str(attributes))\n",
    "\n",
    "# Verificando a presença de dados ausentes\n",
    "print(data.isna().sum())\n"
   ]
  },
  {
   "attachments": {},
   "cell_type": "markdown",
   "metadata": {},
   "source": [
    "Criando variáveis"
   ]
  },
  {
   "cell_type": "code",
   "execution_count": 13,
   "metadata": {},
   "outputs": [
    {
     "name": "stdout",
     "output_type": "stream",
     "text": [
      "  team_name_home  team_home_score  gols_marcados_temporada   \n",
      "0     América MG                1                        1  \\\n",
      "1  RB Bragantino                0                        0   \n",
      "2  Internacional                3                        3   \n",
      "3          Goiás                0                        0   \n",
      "4         Cuiabá                2                        2   \n",
      "\n",
      "   gols_sofridos_temporada  \n",
      "0                        1  \n",
      "1                        1  \n",
      "2                        0  \n",
      "3                        4  \n",
      "4                        1  \n"
     ]
    }
   ],
   "source": [
    "# Criando a variável 'gols_marcados_temporada' para contabilziar a quantidade de gols marcados na tmeporada\n",
    "data['gols_marcados_temporada'] = data.groupby('team_name_home')['team_home_score'].cumsum()\n",
    "\n",
    "# Criando a variável 'gols_sofridos_temporada' para contabilziar a quantidade de gols sofridos na tmeporada\n",
    "data['gols_sofridos_temporada'] = data.groupby('team_name_home')['team_away_score'].cumsum()\n",
    "\n",
    "print(data[['team_name_home', 'team_home_score', 'gols_marcados_temporada', 'gols_sofridos_temporada']].head())"
   ]
  },
  {
   "attachments": {},
   "cell_type": "markdown",
   "metadata": {},
   "source": [
    "Dividindo os dados em um conjunto de treinamento e testes (80% por 20%)"
   ]
  },
  {
   "cell_type": "code",
   "execution_count": 14,
   "metadata": {},
   "outputs": [
    {
     "name": "stdout",
     "output_type": "stream",
     "text": [
      "Tamanho do conjunto de treinamento: 304\n",
      "Tamanho do conjunto de teste: 76\n"
     ]
    }
   ],
   "source": [
    "from sklearn.model_selection import train_test_split\n",
    "\n",
    "# Divisão dos dados em conjunto de treinamento e teste\n",
    "train_data, test_data = train_test_split(data, test_size=0.2, random_state=42)\n",
    "\n",
    "# Verificando o tamanho dos conjuntos de treinamento e teste\n",
    "print(\"Tamanho do conjunto de treinamento:\", len(train_data))\n",
    "print(\"Tamanho do conjunto de teste:\", len(test_data))"
   ]
  },
  {
   "attachments": {},
   "cell_type": "markdown",
   "metadata": {},
   "source": [
    "Definindo o algotimo de treinamento"
   ]
  },
  {
   "cell_type": "code",
   "execution_count": 15,
   "metadata": {},
   "outputs": [
    {
     "name": "stdout",
     "output_type": "stream",
     "text": [
      "Acurácia do modelo: 0.32894736842105265\n"
     ]
    }
   ],
   "source": [
    "from sklearn.tree import DecisionTreeClassifier\n",
    "from sklearn.metrics import accuracy_score\n",
    "\n",
    "# Definindo as variáveis de entrada (features) e o alvo (target)\n",
    "features = ['gols_marcados_temporada', 'gols_sofridos_temporada']\n",
    "target = 'team_home_score'\n",
    "\n",
    "# Separando as features e o alvo do conjunto de treinamento e teste\n",
    "X_train = train_data[features]\n",
    "y_train = train_data[target]\n",
    "X_test = test_data[features]\n",
    "y_test = test_data[target]\n",
    "\n",
    "# Criando e treinando o modelo Decision Tree\n",
    "model = DecisionTreeClassifier()\n",
    "model.fit(X_train, y_train)\n",
    "\n",
    "# Fazendo previsões no conjunto de teste\n",
    "y_pred = model.predict(X_test)\n",
    "\n",
    "# Calculando a acurácia do modelo\n",
    "accuracy = accuracy_score(y_test, y_pred)\n",
    "print(\"Acurácia do modelo:\", accuracy)"
   ]
  },
  {
   "attachments": {},
   "cell_type": "markdown",
   "metadata": {},
   "source": [
    "Validando o modelo"
   ]
  },
  {
   "cell_type": "code",
   "execution_count": 25,
   "metadata": {},
   "outputs": [
    {
     "name": "stdout",
     "output_type": "stream",
     "text": [
      "Acurácia média da validação cruzada: 0.2827868852459017\n",
      "Desvio padrão da validação cruzada: 0.045044693980439636\n"
     ]
    },
    {
     "name": "stderr",
     "output_type": "stream",
     "text": [
      "c:\\Python311\\Lib\\site-packages\\sklearn\\model_selection\\_split.py:700: UserWarning: The least populated class in y has only 3 members, which is less than n_splits=5.\n",
      "  warnings.warn(\n"
     ]
    }
   ],
   "source": [
    "from sklearn.model_selection import cross_val_score\n",
    "\n",
    "# Aplicando validação cruzada\n",
    "scores = cross_val_score(model, X_train, y_train, cv=5)\n",
    "\n",
    "# Exibindo a acurácia média e desvio padrão\n",
    "print(\"Acurácia média da validação cruzada:\", scores.mean())\n",
    "print(\"Desvio padrão da validação cruzada:\", scores.std())"
   ]
  },
  {
   "cell_type": "code",
   "execution_count": 29,
   "metadata": {},
   "outputs": [
    {
     "name": "stdout",
     "output_type": "stream",
     "text": [
      "Previsões:\n",
      "Amostra 1 Time não irá marcar gol\n",
      "Amostra 2 Time não irá marcar gol\n",
      "Amostra 3 : Time irá marcar gol\n",
      "Amostra 4 : Time irá marcar gol\n",
      "Amostra 5 Time não irá marcar gol\n",
      "Amostra 6 : Time irá marcar gol\n",
      "Amostra 7 Time não irá marcar gol\n",
      "Amostra 8 Time não irá marcar gol\n",
      "Amostra 9 Time não irá marcar gol\n",
      "Amostra 10 : Time irá marcar gol\n",
      "Amostra 11 Time não irá marcar gol\n",
      "Amostra 12 Time não irá marcar gol\n",
      "Amostra 13 : Time irá marcar gol\n",
      "Amostra 14 : Time irá marcar gol\n",
      "Amostra 15 Time não irá marcar gol\n",
      "Amostra 16 Time não irá marcar gol\n",
      "Amostra 17 Time não irá marcar gol\n",
      "Amostra 18 Time não irá marcar gol\n",
      "Amostra 19 Time não irá marcar gol\n",
      "Amostra 20 : Time irá marcar gol\n",
      "Amostra 21 Time não irá marcar gol\n",
      "Amostra 22 Time não irá marcar gol\n",
      "Amostra 23 Time não irá marcar gol\n",
      "Amostra 24 : Time irá marcar gol\n",
      "Amostra 25 Time não irá marcar gol\n",
      "Amostra 26 Time não irá marcar gol\n",
      "Amostra 27 : Time irá marcar gol\n",
      "Amostra 28 : Time irá marcar gol\n",
      "Amostra 29 : Time irá marcar gol\n",
      "Amostra 30 Time não irá marcar gol\n",
      "Amostra 31 Time não irá marcar gol\n",
      "Amostra 32 : Time irá marcar gol\n",
      "Amostra 33 Time não irá marcar gol\n",
      "Amostra 34 : Time irá marcar gol\n",
      "Amostra 35 Time não irá marcar gol\n",
      "Amostra 36 : Time irá marcar gol\n",
      "Amostra 37 Time não irá marcar gol\n",
      "Amostra 38 : Time irá marcar gol\n",
      "Amostra 39 Time não irá marcar gol\n",
      "Amostra 40 Time não irá marcar gol\n",
      "Amostra 41 : Time irá marcar gol\n",
      "Amostra 42 Time não irá marcar gol\n",
      "Amostra 43 Time não irá marcar gol\n",
      "Amostra 44 Time não irá marcar gol\n",
      "Amostra 45 Time não irá marcar gol\n",
      "Amostra 46 : Time irá marcar gol\n",
      "Amostra 47 : Time irá marcar gol\n",
      "Amostra 48 Time não irá marcar gol\n",
      "Amostra 49 : Time irá marcar gol\n",
      "Amostra 50 : Time irá marcar gol\n",
      "Amostra 51 : Time irá marcar gol\n",
      "Amostra 52 Time não irá marcar gol\n",
      "Amostra 53 : Time irá marcar gol\n",
      "Amostra 54 Time não irá marcar gol\n",
      "Amostra 55 Time não irá marcar gol\n",
      "Amostra 56 Time não irá marcar gol\n",
      "Amostra 57 Time não irá marcar gol\n",
      "Amostra 58 Time não irá marcar gol\n",
      "Amostra 59 : Time irá marcar gol\n",
      "Amostra 60 Time não irá marcar gol\n",
      "Amostra 61 : Time irá marcar gol\n",
      "Amostra 62 Time não irá marcar gol\n",
      "Amostra 63 : Time irá marcar gol\n",
      "Amostra 64 : Time irá marcar gol\n",
      "Amostra 65 Time não irá marcar gol\n",
      "Amostra 66 : Time irá marcar gol\n",
      "Amostra 67 Time não irá marcar gol\n",
      "Amostra 68 Time não irá marcar gol\n",
      "Amostra 69 Time não irá marcar gol\n",
      "Amostra 70 : Time irá marcar gol\n",
      "Amostra 71 Time não irá marcar gol\n",
      "Amostra 72 Time não irá marcar gol\n",
      "Amostra 73 Time não irá marcar gol\n",
      "Amostra 74 Time não irá marcar gol\n",
      "Amostra 75 : Time irá marcar gol\n",
      "Amostra 76 Time não irá marcar gol\n"
     ]
    },
    {
     "data": {
      "text/plain": [
       "array([2, 0, 1, 1, 2, 1, 0, 2, 0, 1, 2, 2, 1, 1, 2, 2, 2, 0, 0, 1, 2, 2,\n",
       "       2, 1, 2, 2, 1, 1, 1, 0, 0, 1, 0, 1, 0, 1, 0, 1, 2, 3, 1, 2, 2, 3,\n",
       "       0, 1, 1, 2, 1, 1, 1, 2, 1, 4, 2, 0, 3, 0, 1, 2, 1, 0, 1, 1, 4, 1,\n",
       "       2, 0, 2, 1, 2, 0, 0, 2, 1, 0], dtype=int64)"
      ]
     },
     "execution_count": 29,
     "metadata": {},
     "output_type": "execute_result"
    }
   ],
   "source": [
    "# Dados de teste ou novos dados para prever\n",
    "new_data = test_data \n",
    "\n",
    "# Aplicando as mesmas etapas de pré-processamento nas novas entradas\n",
    "# ...\n",
    "# Pré-processamento dos novos dados\n",
    "\n",
    "# Realizando as previsões\n",
    "new_features = new_data[features]\n",
    "predictions = model.predict(new_features)\n",
    "\n",
    "# Exibindo as previsões\n",
    "print(\"Previsões:\")\n",
    "for i, pred in enumerate(predictions):\n",
    "    print(\"Amostra\", i+1, \": Time irá marcar gol\" if pred == 1 else \"Time não irá marcar gol\")\n",
    "\n",
    "predictions"
   ]
  }
 ],
 "metadata": {
  "kernelspec": {
   "display_name": "Python 3",
   "language": "python",
   "name": "python3"
  },
  "language_info": {
   "codemirror_mode": {
    "name": "ipython",
    "version": 3
   },
   "file_extension": ".py",
   "mimetype": "text/x-python",
   "name": "python",
   "nbconvert_exporter": "python",
   "pygments_lexer": "ipython3",
   "version": "3.11.2"
  },
  "orig_nbformat": 4
 },
 "nbformat": 4,
 "nbformat_minor": 2
}
